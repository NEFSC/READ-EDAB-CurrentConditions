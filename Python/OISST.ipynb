{
 "cells": [
  {
   "cell_type": "code",
   "execution_count": null,
   "id": "14df412a-f619-46db-8fc3-d6d87b8cbb17",
   "metadata": {},
   "outputs": [],
   "source": [
    "# Pulling OISST for Current Conditions"
   ]
  },
  {
   "cell_type": "code",
   "execution_count": null,
   "id": "35c24070-aa27-48cf-97f7-2abd8db3aac3",
   "metadata": {},
   "outputs": [],
   "source": [
    "import xarray as xr\n",
    "import pydap\n",
    "import geopandas as gpd\n",
    "import regionmask\n",
    "import numpy as np"
   ]
  },
  {
   "cell_type": "code",
   "execution_count": null,
   "id": "cfe6314f-ff6b-4558-98a6-a6a37a698b20",
   "metadata": {},
   "outputs": [],
   "source": [
    "def crop_nd(data, longitude_name, latitude_name, shape):\n",
    "    \n",
    "    # Get the region of interest\n",
    "    region = regionmask.from_geopandas(shape)\n",
    "    \n",
    "    # Create the mask\n",
    "    mask = region.mask(data[longitude_name].astype('f4'), data[latitude_name].astype('f4'))\n",
    "    \n",
    "    # Apply mask to the data\n",
    "    masked_ds = data.where(mask == region.numbers[0])\n",
    "    \n",
    "    return masked_ds"
   ]
  },
  {
   "cell_type": "code",
   "execution_count": null,
   "id": "c0e5dea9-4662-4118-a898-92b05eecd4f8",
   "metadata": {},
   "outputs": [],
   "source": [
    "shape = gpd.read_file('your_path_here_READ-EDAB-CurrentConditions/shp_files/adv rep MAB GOM GBK NES SCSPoly.shp')"
   ]
  },
  {
   "cell_type": "code",
   "execution_count": null,
   "id": "15e9f773-85c0-4cbe-a057-9e3609fcbde3",
   "metadata": {},
   "outputs": [],
   "source": [
    "# Specify the EPUs\n",
    "ss = shape[shape.Primary == 'SCS']\n",
    "gb = shape[shape.Primary == 'GBK']\n",
    "gom = shape[shape.Primary == 'GOM']\n",
    "mab = shape[shape.Primary == 'MAB']"
   ]
  },
  {
   "cell_type": "code",
   "execution_count": null,
   "id": "bf618ce3-9c7b-42b9-8a8f-0e44f69c3332",
   "metadata": {},
   "outputs": [],
   "source": [
    "url = 'http://psl.noaa.gov/thredds/dodsC/Datasets/noaa.oisst.v2.highres/sst.day.mean.1981.nc?time[0:1:121],lon[1119:1:1199],sst[0:1:121][479:1:599][1119:1:1199],lat[479:1:599]'\n",
    "data = xr.open_dataset(url)\n",
    "\n",
    "url_n = 'http://psl.noaa.gov/thredds/dodsC/Datasets/noaa.oisst.v2.highres/sst.day.mean.1982.nc?time[0:1:364],lon[1119:1:1199],sst[0:1:364][479:1:599][1119:1:1199],lat[479:1:599]'\n",
    "data_n = xr.open_dataset(url_n)"
   ]
  },
  {
   "cell_type": "code",
   "execution_count": null,
   "id": "e28520d2-c9bd-4a6f-8d18-6ae9bad9339e",
   "metadata": {},
   "outputs": [],
   "source": []
  },
  {
   "cell_type": "code",
   "execution_count": null,
   "id": "ba37b250-138c-4b68-9330-b9c45da8eff9",
   "metadata": {},
   "outputs": [],
   "source": [
    "concat_test = xr.concat([data, data_n], dim = 'time')"
   ]
  },
  {
   "cell_type": "code",
   "execution_count": null,
   "id": "3f773784-0915-4be3-a940-d4168c75816e",
   "metadata": {},
   "outputs": [],
   "source": [
    "data"
   ]
  },
  {
   "cell_type": "code",
   "execution_count": null,
   "id": "11efad64-554c-4dfb-be8b-775c01db45c0",
   "metadata": {},
   "outputs": [],
   "source": [
    "data_n"
   ]
  },
  {
   "cell_type": "code",
   "execution_count": null,
   "id": "6fee5e51-bdb2-4bb1-a51c-34a01c0dcff7",
   "metadata": {},
   "outputs": [],
   "source": [
    "test2 = xr.open_dataset('http://psl.noaa.gov/thredds/dodsC/Datasets/noaa.oisst.v2.highres/sst.day.mean.' + str(i) + '.nc?time[0:1:364],lon[1119:1:1199],sst[0:1:364][479:1:599][1119:1:1199],lat[479:1:599]')"
   ]
  },
  {
   "cell_type": "code",
   "execution_count": null,
   "id": "7892ec27-c6ac-4d50-9235-ea804fccd98d",
   "metadata": {},
   "outputs": [],
   "source": [
    "test2.sst"
   ]
  },
  {
   "cell_type": "code",
   "execution_count": null,
   "id": "5c144b3f-f174-4522-9566-7d7c5959fe67",
   "metadata": {},
   "outputs": [],
   "source": [
    "mab_yr_n = crop_nd(test2, 'lon', 'lat', mab).mean(['lat','lon'])"
   ]
  },
  {
   "cell_type": "code",
   "execution_count": null,
   "id": "d0ba0e17-9564-4c02-8dc7-6e636e7b9947",
   "metadata": {},
   "outputs": [],
   "source": [
    "# 1981 first so there is something to append all other data to\n",
    "url = 'http://psl.noaa.gov/thredds/dodsC/Datasets/noaa.oisst.v2.highres/sst.day.mean.1981.nc?time[0:1:121],lon[1119:1:1199],sst[0:1:121][479:1:599][1119:1:1199],lat[479:1:599]'\n",
    "data = xr.open_dataset(url)\n",
    "#mab_yr = crop_nd(data, 'lon', 'lat', mab).mean(['lat','lon'])\n",
    "#gom_yr = crop_nd(data, 'lon', 'lat', gom).mean(['lat', 'lon'])\n",
    "#gb_yr = crop_nd(data, 'lon', 'lat', gb).mean(['lat', 'lon'])\n",
    "#ss_yr = crop_nd(data, 'lon', 'lat', ss).mean(['lat', 'lon'])\n",
    "\n",
    "print(1981)\n",
    "    \n",
    "years = np.arange(1982, 1985)# 2025)\n",
    "\n",
    "for i in years:\n",
    "    if i in [1984, 1988, 1992, 1996, 2000, 2004, 2008, 2012, 2016, 2020, 2024]:\n",
    "        url = 'http://psl.noaa.gov/thredds/dodsC/Datasets/noaa.oisst.v2.highres/sst.day.mean.' + str(i) + '.nc?time[0:1:365],lon[1119:1:1199],sst[0:1:365][479:1:599][1119:1:1199],lat[479:1:599]'\n",
    "        data_n = xr.open_dataset(url)\n",
    "    else:\n",
    "        url = 'http://psl.noaa.gov/thredds/dodsC/Datasets/noaa.oisst.v2.highres/sst.day.mean.' + str(i) + '.nc?time[0:1:364],lon[1119:1:1199],sst[0:1:364][479:1:599][1119:1:1199],lat[479:1:599]'\n",
    "        data_n = xr.open_dataset(url)\n",
    "\n",
    "    data = xr.concat([data, data_n],dim = 'time')\n",
    "    #mab_yr_n = crop_nd(data, 'lon', 'lat', mab).mean(['lat','lon'])\n",
    "    #gom_yr_n = crop_nd(data, 'lon', 'lat', gom).mean(['lat', 'lon'])\n",
    "    #gb_yr_n = crop_nd(data, 'lon', 'lat', gb).mean(['lat', 'lon'])\n",
    "    #ss_yr_n = crop_nd(data, 'lon', 'lat', ss).mean(['lat', 'lon'])\n",
    "\n",
    "    #mab_yr = xr.merge([mab_yr, mab_yr_n])\n",
    "    #gom_yr = xr.merge([gom_yr, gom_yr_n])\n",
    "    #gb_yr = xr.merge([gb_yr, gb_yr_n])\n",
    "    #ss_yr = xr.merge([ss_yr, ss_yr_n])\n",
    "\n",
    "    print(i)"
   ]
  },
  {
   "cell_type": "code",
   "execution_count": null,
   "id": "a8589a26-49be-4ad3-8470-a146cea16a1b",
   "metadata": {},
   "outputs": [],
   "source": [
    "#opendap the data set, subset to our area of interest and get the mean daily value, maybe make this a matrix? only save these mean daily values\n",
    "# Load Hubert's debiased ROMS + GLORYS dataset\n",
    "directory = \"C:/Users/Laura.Gruenburg/Desktop/Projects/MOM6_Validation/bt_hubert/bt_revised_metadata_032024/\"\n",
    "\n",
    "bt = xr.open_dataset(directory + 'bottom_temp_1959.nc')\n",
    "\n",
    "# Iterate over files in directory\n",
    "for file in os.listdir(directory):\n",
    "    filename = directory + file\n",
    "    bt_yr = xr.open_dataset(directory + file)\n",
    "    bt = xr.merge([bt, bt_yr])"
   ]
  },
  {
   "cell_type": "code",
   "execution_count": null,
   "id": "4d92e8f9-3b21-43cc-a119-2fe47c4b33ae",
   "metadata": {},
   "outputs": [],
   "source": [
    "# Load in the shapefile\n",
    "epu = gpd.read_file('EPU_shape/EPU_NOESTUARIES.shp')"
   ]
  },
  {
   "cell_type": "code",
   "execution_count": null,
   "id": "7472fb24-d97d-4673-8ac0-90e569ff28f5",
   "metadata": {},
   "outputs": [],
   "source": [
    "mab_m6 = reupy.crop_nd(mom6_bt_cropped, 'lon', 'lat', mab)"
   ]
  },
  {
   "cell_type": "code",
   "execution_count": null,
   "id": "63fc2bbd-b1ae-49c2-a2f2-80a8b95fb203",
   "metadata": {},
   "outputs": [],
   "source": [
    "np.arange(0.125, 359.875, "
   ]
  },
  {
   "cell_type": "code",
   "execution_count": null,
   "id": "22871b20-4acf-414b-8367-276fe0898e70",
   "metadata": {},
   "outputs": [],
   "source": [
    "280-0.125\n"
   ]
  },
  {
   "cell_type": "code",
   "execution_count": null,
   "id": "1d0f9a68-1634-4016-8067-bd9bd9d83b95",
   "metadata": {},
   "outputs": [],
   "source": [
    "359.75/1439"
   ]
  },
  {
   "cell_type": "code",
   "execution_count": null,
   "id": "a2a9762a-3f00-4a32-b767-b0e472cf055f",
   "metadata": {},
   "outputs": [],
   "source": [
    "279.875/0.25"
   ]
  },
  {
   "cell_type": "code",
   "execution_count": null,
   "id": "64525597-6c44-455c-aa6a-2c20d6220ad1",
   "metadata": {},
   "outputs": [],
   "source": [
    "(300-0.125)/0.25"
   ]
  },
  {
   "cell_type": "code",
   "execution_count": null,
   "id": "9bbbc17f-c40e-46e7-87c4-50bc51bb7c1d",
   "metadata": {},
   "outputs": [],
   "source": [
    "-89.875, 89.875"
   ]
  },
  {
   "cell_type": "code",
   "execution_count": null,
   "id": "2a256b2a-f22c-433e-afc2-12f98817c995",
   "metadata": {},
   "outputs": [],
   "source": [
    "89.875+89.875"
   ]
  },
  {
   "cell_type": "code",
   "execution_count": null,
   "id": "76c16251-a551-4ee1-921b-0b97c7146e1a",
   "metadata": {},
   "outputs": [],
   "source": [
    "179.75/719"
   ]
  },
  {
   "cell_type": "code",
   "execution_count": null,
   "id": "058c591f-6b90-447d-90ad-c86e27894a67",
   "metadata": {},
   "outputs": [],
   "source": [
    "(89.875+30)/0.25"
   ]
  },
  {
   "cell_type": "code",
   "execution_count": null,
   "id": "b26cf6c8-a106-43c7-beb0-8a2f6081b2a5",
   "metadata": {},
   "outputs": [],
   "source": [
    "(89.875+60)/0.25"
   ]
  },
  {
   "cell_type": "code",
   "execution_count": null,
   "id": "6b22467d-c3f7-47c8-b1ef-df54efbf5d96",
   "metadata": {},
   "outputs": [],
   "source": [
    "test = xr.open_dataset('http://psl.noaa.gov/thredds/dodsC/Datasets/noaa.oisst.v2.highres/sst.day.mean.1981.nc?time[0:1:121],lon[1119:1:1199],sst[0:1:121][479:1:599][1119:1:1199],lat[479:1:599]')"
   ]
  },
  {
   "cell_type": "code",
   "execution_count": null,
   "id": "6873dd0c-8141-4817-b9c9-e6131d431b68",
   "metadata": {},
   "outputs": [],
   "source": [
    "crop_nd(test, 'lon', 'lat', mab).mean(['lat','lon'])"
   ]
  },
  {
   "cell_type": "code",
   "execution_count": null,
   "id": "de1aacf9-c2a5-4f5b-a396-55aec264fe80",
   "metadata": {},
   "outputs": [],
   "source": []
  }
 ],
 "metadata": {
  "kernelspec": {
   "display_name": "mom6_env",
   "language": "python",
   "name": "mom6_env"
  },
  "language_info": {
   "codemirror_mode": {
    "name": "ipython",
    "version": 3
   },
   "file_extension": ".py",
   "mimetype": "text/x-python",
   "name": "python",
   "nbconvert_exporter": "python",
   "pygments_lexer": "ipython3",
   "version": "3.12.9"
  }
 },
 "nbformat": 4,
 "nbformat_minor": 5
}
